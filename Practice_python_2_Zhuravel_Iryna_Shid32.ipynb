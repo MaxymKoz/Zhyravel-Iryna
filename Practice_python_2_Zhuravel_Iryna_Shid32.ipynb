{
  "cells": [
    {
      "cell_type": "markdown",
      "metadata": {
        "id": "EVJ7AflwxrZi"
      },
      "source": [
        "# I. Рядки (String)."
      ]
    },
    {
      "cell_type": "markdown",
      "metadata": {
        "id": "_s5ECzz9zE61"
      },
      "source": [
        "1. Створити пустий рядок двома різними способами."
      ]
    },
    {
      "cell_type": "code",
      "execution_count": null,
      "metadata": {
        "colab": {
          "base_uri": "https://localhost:8080/",
          "height": 36
        },
        "id": "HsDOUUMWxo6D",
        "outputId": "c4ba6fa0-6ffb-4bbe-8249-8bc4c9449298"
      },
      "outputs": [],
      "source": [
        "empty_str = ''\n",
        "empty_str"
      ]
    },
    {
      "cell_type": "markdown",
      "metadata": {
        "id": "4Bdn9J3MzLf_"
      },
      "source": [
        "2. Створити рядок з апострофом."
      ]
    },
    {
      "cell_type": "code",
      "execution_count": null,
      "metadata": {
        "colab": {
          "base_uri": "https://localhost:8080/"
        },
        "id": "OjyFU0iKzPc2",
        "outputId": "4f962a6c-bdd7-4aea-d055-a7d084e2bb4a"
      },
      "outputs": [],
      "source": [
        "my_string = \"За вікном ластівки в’ють гніздо.\"\n",
        "print(my_string)"
      ]
    },
    {
      "cell_type": "markdown",
      "metadata": {
        "id": "qj7LjXFazbx1"
      },
      "source": [
        "3. Створити рядок з символом переходу на новий рядок та роздрукувати його в консоль."
      ]
    },
    {
      "cell_type": "code",
      "execution_count": null,
      "metadata": {
        "colab": {
          "base_uri": "https://localhost:8080/"
        },
        "id": "K9J-tLXczmyo",
        "outputId": "033819c4-58f6-45e5-83b6-ba2db8b0b2ff"
      },
      "outputs": [],
      "source": [
        "my_string = \"Ласкаво просимо. \\nВітаємо в Україні.\"\n",
        "print(my_string)"
      ]
    },
    {
      "cell_type": "markdown",
      "metadata": {
        "id": "XEYGh-BGzzfD"
      },
      "source": [
        "4. Зробити рядок з завдання №3 \"сирим\"(raw), вивести в консоль та порівняти з результатом в попередному завданні."
      ]
    },
    {
      "cell_type": "code",
      "execution_count": null,
      "metadata": {
        "colab": {
          "base_uri": "https://localhost:8080/"
        },
        "id": "0Mb7qYqgzntd",
        "outputId": "a6062243-60da-42c7-c58d-496d903c6d86"
      },
      "outputs": [],
      "source": [
        "my_string = r\"Ласкаво просимо. \\nВітаємо в Україні.\"\n",
        "print(my_string)"
      ]
    },
    {
      "cell_type": "markdown",
      "metadata": {
        "id": "xLM76Cnfz3T_"
      },
      "source": [
        "*Пояснення:* У цьому коді 'r' був використаний  перед рядком, щоб створити сирий рядок my_string. Після виконання коду, \\n залишається як літерали в рядку, і не стає символом переходу на новий рядок."
      ]
    },
    {
      "cell_type": "markdown",
      "metadata": {
        "id": "bg_d8wM4z8dS"
      },
      "source": [
        "5. Створити змінну, що буде посилатися на Ваше прізвище латинкою. Створити форматований рядок, який буде мати вигляд \"My surname is ______\", де на місці нижніх підкреслень буде Ваше прізвище зі змінної."
      ]
    },
    {
      "cell_type": "code",
      "execution_count": null,
      "metadata": {
        "colab": {
          "base_uri": "https://localhost:8080/"
        },
        "id": "Cr847KKpz7zF",
        "outputId": "5b4dea17-28d8-426a-9d8b-ad0eefd15e7d"
      },
      "outputs": [],
      "source": [
        "my_surname = 'Zhuravel'\n",
        "f_string = f\"My surname is {my_surname}\"\n",
        "print(f_string)"
      ]
    },
    {
      "cell_type": "markdown",
      "metadata": {
        "id": "1Nc6RqvQ0hxU"
      },
      "source": [
        "6. Маючи рядок \"My dog is crazy.\" перетворити його на список [\"my\", \"dog\", \"is\", \"crazy\"]"
      ]
    },
    {
      "cell_type": "code",
      "execution_count": null,
      "metadata": {
        "colab": {
          "base_uri": "https://localhost:8080/"
        },
        "id": "dGU4MImR063l",
        "outputId": "ad3e6d1b-db92-4395-91c3-a12b5aeb942e"
      },
      "outputs": [],
      "source": [
        "string = \"My dog is crazy\"\n",
        "my_list = string.split()\n",
        "print(my_list)"
      ]
    },
    {
      "cell_type": "markdown",
      "metadata": {
        "id": "rW_I9dt3x6cW"
      },
      "source": [
        "# II. Множини (Set)."
      ]
    },
    {
      "cell_type": "markdown",
      "metadata": {
        "id": "zNjRLHLw1Bgg"
      },
      "source": [
        "**7**. Створити множину без елементів. Після цого за допомогою методу додайте кілька різних елементів до множини. Чи множини є змінним типом даних?"
      ]
    },
    {
      "cell_type": "code",
      "execution_count": null,
      "metadata": {
        "colab": {
          "base_uri": "https://localhost:8080/"
        },
        "id": "CB72VZWZ1A7c",
        "outputId": "48bbc027-01c5-4cfc-b025-2d2bcfe5bd00"
      },
      "outputs": [],
      "source": [
        "empty_set = set()\n",
        "empty_set.add(0)\n",
        "empty_set.add(16)\n",
        "print(empty_set)"
      ]
    },
    {
      "cell_type": "markdown",
      "metadata": {
        "id": "tqxtcfgK4Wkx"
      },
      "source": [
        "*Пояснення:* Множини є змінним типом даних. їх можна змінювати, додавати елементи, видаляти їх і так далі."
      ]
    },
    {
      "cell_type": "markdown",
      "metadata": {
        "id": "gHpT0Zw_1HEF"
      },
      "source": [
        "8. Створити множину, маючи список my_list = [1, 1, 2, 67, 67, 8, 9]. Пояснити, чому \"зникли\" деякі елементи."
      ]
    },
    {
      "cell_type": "code",
      "execution_count": null,
      "metadata": {
        "colab": {
          "base_uri": "https://localhost:8080/"
        },
        "id": "U5YnFsPp1OCU",
        "outputId": "b06defde-ab17-4bb0-a6d4-18930ef32af9"
      },
      "outputs": [],
      "source": [
        "my_list = set([1, 1, 2, 3, 7, 7, 8, 9])\n",
        "my_set = set(my_list)\n",
        "my_unique_list = list(my_set)\n",
        "my_unique_list"
      ]
    },
    {
      "cell_type": "markdown",
      "metadata": {
        "id": "pHGtJB_zWcYP"
      },
      "source": [
        "*Пояснення:* Множин 'set' має особливість, що воно не може містити дублюючіся значення. При створені множини зі списку, у якому є дублюючіся елементи, зберігаються лише унікальні значення, а дублікати відкидаються."
      ]
    },
    {
      "cell_type": "markdown",
      "metadata": {
        "id": "SRMkGizS1UwY"
      },
      "source": [
        "9. Створіть дві множини. Продемонстуйте над ними операції: обʼєднання, різниці, пересічі та симетричної різниці. Використовуйте методи, що не змінюють множини, а створюють нові."
      ]
    },
    {
      "cell_type": "code",
      "execution_count": null,
      "metadata": {
        "colab": {
          "base_uri": "https://localhost:8080/"
        },
        "id": "pj5ta1CS2LAa",
        "outputId": "2f8cc16e-431e-462f-b0e2-0a788ca4ae0b"
      },
      "outputs": [],
      "source": [
        "a = {1, 2, 3, 4}\n",
        "b = {3, 4, 5, 6}\n",
        "a | b # обʼєднання"
      ]
    },
    {
      "cell_type": "code",
      "execution_count": null,
      "metadata": {
        "colab": {
          "base_uri": "https://localhost:8080/"
        },
        "id": "yayVxcpyaHav",
        "outputId": "d4ac6509-0734-4225-cf47-00a2432fe142"
      },
      "outputs": [],
      "source": [
        "a & b # пересічі"
      ]
    },
    {
      "cell_type": "code",
      "execution_count": null,
      "metadata": {
        "colab": {
          "base_uri": "https://localhost:8080/"
        },
        "id": "orqKAiYxaJ0x",
        "outputId": "514daaa9-fd29-4510-c0c2-cfb030933a01"
      },
      "outputs": [],
      "source": [
        "a - b # різниці\n"
      ]
    },
    {
      "cell_type": "code",
      "execution_count": null,
      "metadata": {
        "colab": {
          "base_uri": "https://localhost:8080/"
        },
        "id": "xO2O8Xs_ayXQ",
        "outputId": "2ca2a03f-1361-4e03-cb10-dbda58f488db"
      },
      "outputs": [],
      "source": [
        "b - a # різниці"
      ]
    },
    {
      "cell_type": "code",
      "execution_count": null,
      "metadata": {
        "colab": {
          "base_uri": "https://localhost:8080/"
        },
        "id": "03IUOXqwaLKs",
        "outputId": "fb00cc4e-9484-451c-d0a5-7477cf7b77e4"
      },
      "outputs": [],
      "source": [
        "a ^ b # симетричної різниці"
      ]
    },
    {
      "cell_type": "markdown",
      "metadata": {
        "id": "ECo4rGAW2e4S"
      },
      "source": [
        "10. Створіть множину з пʼяти елементів. За допомогою спеціального методу, вилучіть три елементи один за одним з множини. Чи може гарантуватися порядок елементів у множинах?"
      ]
    },
    {
      "cell_type": "code",
      "execution_count": null,
      "metadata": {
        "colab": {
          "base_uri": "https://localhost:8080/"
        },
        "id": "tCoJigA-4Ryd",
        "outputId": "69f5d1af-e5c0-4a1f-b3be-3c5bc8315079"
      },
      "outputs": [],
      "source": [
        "my_set = {1, 2, 3, 4, 5}\n",
        "my_set.remove(1)\n",
        "my_set.remove(3)\n",
        "my_set.remove(4)\n",
        "print(my_set)"
      ]
    },
    {
      "cell_type": "markdown",
      "metadata": {
        "id": "t7f5oKmP2qum"
      },
      "source": [
        "*Пояснення:* Множини є неупорядкованими, тобто порядок елементів у множині не гарантується і може змінюватися."
      ]
    },
    {
      "cell_type": "markdown",
      "metadata": {
        "id": "kWc8gkzTx7Ea"
      },
      "source": [
        "# III. Словники (Dictionary)."
      ]
    },
    {
      "cell_type": "markdown",
      "metadata": {
        "id": "FHIRdwck2uji"
      },
      "source": [
        "11. Створіть пустий словник двома способами."
      ]
    },
    {
      "cell_type": "code",
      "execution_count": null,
      "metadata": {
        "id": "sF2WCzwJ2yDq"
      },
      "outputs": [],
      "source": [
        "empty_dict = dict()"
      ]
    },
    {
      "cell_type": "code",
      "execution_count": null,
      "metadata": {
        "id": "-uRTk6c_dnZ4"
      },
      "outputs": [],
      "source": [
        "empty_dict2 = {}"
      ]
    },
    {
      "cell_type": "markdown",
      "metadata": {
        "id": "i5FLwj-B2ybQ"
      },
      "source": [
        "12. До одного зі словників вище додайте чотири пари елементів такі, щоб їхні ключі були різних типів."
      ]
    },
    {
      "cell_type": "code",
      "execution_count": null,
      "metadata": {
        "colab": {
          "base_uri": "https://localhost:8080/"
        },
        "id": "lqunD0EZ2_Vg",
        "outputId": "15d1ec1a-def2-4848-8625-99ebae7d98fe"
      },
      "outputs": [],
      "source": [
        "dict = {1: 'a',\n",
        "        2: 'b',\n",
        "        'c': True,\n",
        "        (0,3): [2, 3, 4],\n",
        "        '78': 67,\n",
        "        ('apple'): 'Fruits'}\n",
        "dict"
      ]
    },
    {
      "cell_type": "markdown",
      "metadata": {
        "id": "XOD2Aaj13Bqx"
      },
      "source": [
        "*чи може список бути ключем? а значенням? чому?\n",
        ">*Пояснення:*  \n",
        "* Список не може бути ключем в словнику, оскільки список є змінюваним об'єктом.\n",
        "* Значення в словнику може бути будь-яким об'єктом, включаючи інші списки.\n",
        "\n",
        "\n"
      ]
    },
    {
      "cell_type": "markdown",
      "metadata": {
        "id": "9Tjhmuf73KE6"
      },
      "source": [
        "13. Використовуючи той самий словник, отримайте по ключу будь-яке значення з наявних. Тепер видаліть цю пару ключ-значення. Спробуйте знову отримати значення по цьому ж ключу. Використовуючи спеціальний метод, виправте помилку."
      ]
    },
    {
      "cell_type": "code",
      "execution_count": null,
      "metadata": {
        "id": "cNMenuGQ3JMa"
      },
      "outputs": [],
      "source": []
    },
    {
      "cell_type": "markdown",
      "metadata": {
        "id": "SLtQabwUx7Xc"
      },
      "source": [
        "# IV. Оператори порівняння та логічні оператори. Умови."
      ]
    },
    {
      "cell_type": "markdown",
      "metadata": {
        "id": "SrehzC-n3-ln"
      },
      "source": [
        "14. Створіть цілочисленну змінну зі своїм щасливим або улюбленим числом. Напишіть код, який би автоматизовував наступну задачу.\n",
        "\n",
        "Якщо число парне, помножте його на 2 та виведіть результат на екран.\n",
        "\n",
        "Але якщо число непарне, помножте його на 3 та додайте 1 і виведіть на екран.\n"
      ]
    },
    {
      "cell_type": "code",
      "execution_count": null,
      "metadata": {
        "id": "g0cchKGl3-Gq"
      },
      "outputs": [],
      "source": []
    },
    {
      "cell_type": "markdown",
      "metadata": {
        "id": "PRXLVdU26E5Z"
      },
      "source": [
        "15. Створіть рядок зі своїм імʼям латинкою. Напишіть код, який би автоматизовував наступну задачу.\n",
        "\n",
        "Якщо в імені є літера \"а\"\n",
        " або \"i\", Виведіть на екран повідомлення \"A or I is in the name\".\n",
        "\n",
        "\n",
        "\n",
        "Якщо в імені є літери \"o\" та \"n\", Виведіть на екран повідомлення \"O and N is in the name\".\n",
        "\n",
        "Також якщо в імені немає літери \"о\", але є \"n\", Виведіть на екран повідомлення \"Only N is in the name\".\n",
        "\n",
        "В решті випадків виведіть на екран повідомлення \"There is no N in the name, but there might be O\".\n",
        "\n",
        "Зверніть увагу, що, наприклад, для імені \"Antonina\" буде виведено два повідомлення."
      ]
    },
    {
      "cell_type": "code",
      "execution_count": null,
      "metadata": {
        "id": "bQlf4ZUh6Pdz"
      },
      "outputs": [],
      "source": []
    },
    {
      "cell_type": "markdown",
      "metadata": {
        "id": "xOZP0hkx6cCr"
      },
      "source": [
        "# Вітаю! Ви велика(ий) молодець, що впоралась(вся). Похваліть себе та побалуйте чимось приємним. Я Вами пишаюся."
      ]
    }
  ],
  "metadata": {
    "colab": {
      "provenance": []
    },
    "kernelspec": {
      "display_name": "Python 3",
      "name": "python3"
    },
    "language_info": {
      "name": "python",
      "version": "3.10.10"
    }
  },
  "nbformat": 4,
  "nbformat_minor": 0
}
