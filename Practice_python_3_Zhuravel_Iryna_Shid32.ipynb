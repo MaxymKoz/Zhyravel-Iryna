{
  "cells": [
    {
      "cell_type": "markdown",
      "metadata": {
        "id": "bhnw_OBiped2"
      },
      "source": [
        "# I. range."
      ]
    },
    {
      "cell_type": "markdown",
      "metadata": {
        "id": "cS4sWGwctkLH"
      },
      "source": [
        "1. (4 бали) Створіть обʼєкт типу range, який буде містити послідовність цілих чисел від 0 до 9 включно. Виведіть його довжину (кількість значень)."
      ]
    },
    {
      "cell_type": "code",
      "execution_count": null,
      "metadata": {
        "colab": {
          "base_uri": "https://localhost:8080/"
        },
        "id": "1XFhN5gVte4X",
        "outputId": "c8c9c6d0-7492-4b48-dfa8-4c632f1fe067"
      },
      "outputs": [],
      "source": [
        "for i in range(0, 10):\n",
        "  print(i)"
      ]
    },
    {
      "cell_type": "markdown",
      "metadata": {
        "id": "VZ0Dh0m-t9tM"
      },
      "source": [
        "2. (5 балів) Створіть обʼєкт типу range, який буде містити послідовність цілих чисел (16, 13, 10, 7, 4, 1, -2, -5)"
      ]
    },
    {
      "cell_type": "code",
      "execution_count": null,
      "metadata": {
        "colab": {
          "base_uri": "https://localhost:8080/"
        },
        "id": "YavF1Agaoe8J",
        "outputId": "7e82ce1a-55f9-4f42-f65d-f97fb8087740"
      },
      "outputs": [],
      "source": [
        "for n in range(16, -6, -3):\n",
        "  print(n)"
      ]
    },
    {
      "cell_type": "markdown",
      "metadata": {
        "id": "nBmE3_nMuavj"
      },
      "source": [
        "3. (4 бали) Створіть змінну зі значенням цілого типу. Перевірте, чи вона належить проміжку від 49 до 100 включно. Як ви гадаєте, для чого використовуються range?"
      ]
    },
    {
      "cell_type": "code",
      "execution_count": null,
      "metadata": {
        "colab": {
          "base_uri": "https://localhost:8080/"
        },
        "id": "5KmgBmOIuku4",
        "outputId": "6e784c9e-1597-46a3-8a93-2ec9a0e7405e"
      },
      "outputs": [],
      "source": [
        "a = int(input('Введіть число для перевірки: '))\n",
        "if a in range(49, 101):\n",
        "    print(\"Змінна належить проміжку від 49 до 100 включно.\")\n",
        "else:\n",
        "    print(\"Змінна не належить вказаному проміжку.\")\n"
      ]
    },
    {
      "cell_type": "markdown",
      "metadata": {
        "id": "hZHtKQUJxDxj"
      },
      "source": [
        "Функція range використовується для створення послідовності чисел в заданому діапазоні. Що також полегшує читабельніть та використання коду, ніж умова\n",
        "' x1 < n < x2 '"
      ]
    },
    {
      "cell_type": "markdown",
      "metadata": {
        "id": "56FjMkPatTD6"
      },
      "source": [
        "# II. Comprehensions."
      ]
    },
    {
      "cell_type": "markdown",
      "metadata": {
        "id": "AZyfyNfYvOyq"
      },
      "source": [
        "4. (6 балів) Створіть множину (set), використовуючи range та set comprehension."
      ]
    },
    {
      "cell_type": "code",
      "execution_count": null,
      "metadata": {
        "colab": {
          "base_uri": "https://localhost:8080/"
        },
        "id": "DE8oNYSUvNfR",
        "outputId": "28a77a19-474a-407b-8a8a-e1dfec2a4730"
      },
      "outputs": [],
      "source": [
        "set = {x*2 for x in range(1, 10)}\n",
        "print(set)"
      ]
    },
    {
      "cell_type": "markdown",
      "metadata": {
        "id": "5IsyYnolvWxJ"
      },
      "source": [
        "5. (8 балів) Створіть словник, використовуючи dict comprehension, що містить if else. Коли слід використовувати comprehensions, а коли їх слід уникати?"
      ]
    },
    {
      "cell_type": "code",
      "execution_count": null,
      "metadata": {
        "colab": {
          "base_uri": "https://localhost:8080/"
        },
        "id": "PTLiarj4vWVu",
        "outputId": "29af048d-4335-4cf1-f0e8-01441aef4a8d"
      },
      "outputs": [],
      "source": [
        "dict = {x: x+2 if x % 2 == 0 else x-3 for x in range(1, 6)}\n",
        "print(dict)"
      ]
    },
    {
      "cell_type": "markdown",
      "metadata": {
        "id": "PcwgYcjdxYPA"
      },
      "source": [
        "Comprehensions, є зручним коли потрібно виконати прості операції на кожному елементі колекції. Але код стає складним та важким для розуміння через використання великої кількості вбудованих умов та операцій, краще зберегти баланс між компактністю та читабельністю."
      ]
    },
    {
      "cell_type": "markdown",
      "metadata": {
        "id": "xPVEDwk6vfhU"
      },
      "source": [
        "6. (7 балів) Створіть список з рядками та запишіть його у змінну. Створіть ще один список на основі попереднього, де кожен рядок буде містити тільки три перших заглавних символи. Наприклад: ['hello', 'i', 'dont', 'care'] -> ['HEL', 'I', 'DON', 'CAR']"
      ]
    },
    {
      "cell_type": "code",
      "execution_count": null,
      "metadata": {
        "colab": {
          "base_uri": "https://localhost:8080/"
        },
        "id": "l1FAM69Owi7q",
        "outputId": "ec83eb7b-0a7a-4381-9a86-d5776490b55d"
      },
      "outputs": [],
      "source": [
        "list = ['hello', 'i', 'dont', 'care']\n",
        "upper_case = [word[:3].upper() for word in list]\n",
        "print(upper_case)"
      ]
    },
    {
      "cell_type": "markdown",
      "metadata": {
        "id": "9zEB8ekEtTnQ"
      },
      "source": [
        "# III. Цикли."
      ]
    },
    {
      "cell_type": "markdown",
      "metadata": {
        "id": "AlEfFe4Fwv8n"
      },
      "source": [
        "7. (6 балів) Продемонструйте роботу циклу while. Чи можна використовувати в умові циклу булеві значення? Чому?"
      ]
    },
    {
      "cell_type": "code",
      "execution_count": null,
      "metadata": {
        "colab": {
          "base_uri": "https://localhost:8080/"
        },
        "id": "kiDSbqo0wwMZ",
        "outputId": "92197b80-82e8-4895-86a9-b27585665946"
      },
      "outputs": [],
      "source": [
        "# Звичайний цикл\n",
        "i = 1\n",
        "while i <= 10:\n",
        "  print(i)\n",
        "  i += 1\n",
        "print(\"Цикл завершено.\")"
      ]
    },
    {
      "cell_type": "code",
      "execution_count": null,
      "metadata": {
        "colab": {
          "base_uri": "https://localhost:8080/"
        },
        "id": "Y0kD9mMrblLn",
        "outputId": "d1f94467-5e7c-4feb-f0fd-ff92b3e128cd"
      },
      "outputs": [],
      "source": [
        "# Цикл з булевим значенням\n",
        "i = True\n",
        "while i == True:\n",
        "  print(i, \"\\nБо умова True.\")\n",
        "  i += 1\n",
        "print(\"Цикл завершено.\")"
      ]
    },
    {
      "cell_type": "markdown",
      "metadata": {
        "id": "J9TkD5_Cx3I1"
      },
      "source": [
        "8. (8 балів) Напишіть програму, яка виведе на екран непарні числа в діапазоні від 0 до 20 включно."
      ]
    },
    {
      "cell_type": "code",
      "execution_count": null,
      "metadata": {
        "colab": {
          "base_uri": "https://localhost:8080/"
        },
        "id": "5A1d-qvVx34B",
        "outputId": "540456cc-b9ef-473d-f408-a11f4303a149"
      },
      "outputs": [],
      "source": [
        "for i in range(0, 21):\n",
        "    if i % 2 != 0:\n",
        "        print(i)"
      ]
    },
    {
      "cell_type": "markdown",
      "metadata": {
        "id": "xN6Kfmqex4NU"
      },
      "source": [
        "9. (7 балів) Створіть список з елементами булевого типу або None. Використовуючи цикли, отримайте в результаті список з кортежами, де перший елемент кортежу - індекс(ціле число), а другий елемент - відповідне значення з першого списку.\n",
        "\n",
        "Наприклад, [True, True, None, False] -> [(0, True), (1, True), (2, None), (3, False)]"
      ]
    },
    {
      "cell_type": "code",
      "execution_count": null,
      "metadata": {
        "colab": {
          "base_uri": "https://localhost:8080/"
        },
        "id": "YhVlQnNIx405",
        "outputId": "4750c481-9184-4332-9d2a-dea63cb7d679"
      },
      "outputs": [],
      "source": [
        "list1 = [True, True, None, False]\n",
        "result_list = [(index, value) for index, value in enumerate(list1)]\n",
        "print(result_list)"
      ]
    },
    {
      "cell_type": "markdown",
      "metadata": {
        "id": "cJNlWxHLx5mW"
      },
      "source": [
        "10. (10 балів) Створіть словник, де ключі - назви книжок, а значення - їхня кількість у наявності в Вашій міні-бібліотеці. Бібліотека має містити щонайменше 6 книжок (6 пар значень у словнику) і щонайбільше 10 (пар значень). Використовуючи цикли, оновіть словник (не створюйте новий) так, щоби кількість книг у наявності збільшилося на 5 кожної книги. Наприклад,\n",
        "{'It': 3, 'Fault stars': 10, 'Bible': 17, 'Psychological romance': 4, 'Harry Potter': 13} -> {'It': 8, 'Fault stars': 15, 'Bible': 22, 'Psychological romance': 9, 'Harry Potter': 18}"
      ]
    },
    {
      "cell_type": "code",
      "execution_count": null,
      "metadata": {
        "colab": {
          "base_uri": "https://localhost:8080/"
        },
        "id": "pI7I71ao0qh_",
        "outputId": "51dfb0a3-dddc-43ec-b3a3-2549ac7d02e8"
      },
      "outputs": [],
      "source": [
        "library = {'Looking for Alaska': 6,\n",
        "           'Fault stars': 10,\n",
        "           'Call Me By Your Name': 5,\n",
        "           'The Queen': 9,\n",
        "           'It Ends With Us': 13,\n",
        "           'Harry Potter': 11,}\n",
        "\n",
        "for book in library:\n",
        "    library[book] += 6\n",
        "\n",
        "print(library)"
      ]
    },
    {
      "cell_type": "markdown",
      "metadata": {
        "id": "qdZA6qi82GBa"
      },
      "source": [
        "11. (15 балів) Визначте цілочислену змінну n, що належить проміжку від 4 до 10 включно. Використовуючи цикли, виведіть в консоль наступний патерн.\n",
        "\n",
        "#\n",
        "##\n",
        "###\n",
        "####\n",
        "\n",
        "... #*n\n"
      ]
    },
    {
      "cell_type": "code",
      "execution_count": null,
      "metadata": {
        "colab": {
          "base_uri": "https://localhost:8080/"
        },
        "id": "aaHuUQHfx6YO",
        "outputId": "11138951-5e63-4fbc-f6d0-f9f4e4abf006"
      },
      "outputs": [],
      "source": [
        "n = int(input(\"Введіть розмір трикутника: \"))\n",
        "if n in range(4, 11):\n",
        "  for i in range(0,n):\n",
        "    for x in range(0,i+1):\n",
        "      print('#', end='')\n",
        "    print()\n",
        "else:\n",
        "  print()"
      ]
    },
    {
      "cell_type": "markdown",
      "metadata": {
        "id": "XOniyaun74Ed"
      },
      "source": [
        "12. (20 балів) Гра \"Нумо вгадай\".\n",
        "Розробіть просту гру, де користувач має вгадати випадкове число від 1 до 100. Для генерації випадкового числа використовуйте функцію random.randint(a, b) (тут a та b включно). Для отримання числа з консолі використовуйте функцію input(), результат якої обовʼязково явно приведіть до типу int.\n",
        "\n",
        "Підказка: використовуйте цикл while та умови if-else, щоб повідомити користувачу піказки (напр. \"Більше\", \"Менше\") поки користувач не вгадає. По завершенню виведіть кількість спроб, які знадобилися для вгадування.\n"
      ]
    },
    {
      "cell_type": "code",
      "execution_count": null,
      "metadata": {
        "colab": {
          "base_uri": "https://localhost:8080/"
        },
        "id": "iomCeUuW73NG",
        "outputId": "866c4f79-6e55-49bf-ff70-3262360a07c3"
      },
      "outputs": [],
      "source": [
        "import random\n",
        "\n",
        "print('Нумо вгадай')\n",
        "print('Число згенеровано.')\n",
        "\n",
        "random_num = random.randint(0, 100)\n",
        "\n",
        "while True:\n",
        "  num = int(input('Введи ймовірне число! '))\n",
        "  if num == random_num:\n",
        "    print('Вітаю! Ти вгадав. Це число -',random_num)\n",
        "    break\n",
        "  elif num > random_num:\n",
        "    print('Менше. Спробуй ще раз!')\n",
        "  else:\n",
        "    print('Більше. Спробуй ще раз!', num)"
      ]
    },
    {
      "cell_type": "markdown",
      "metadata": {
        "id": "jTs-rqOptY2R"
      },
      "source": [
        "# Вітаю! Ви велика(ий) молодець, що впоралась(вся). Похваліть себе та побалуйте чимось приємним. Я Вами пишаюся."
      ]
    }
  ],
  "metadata": {
    "colab": {
      "provenance": []
    },
    "kernelspec": {
      "display_name": "Python 3",
      "name": "python3"
    },
    "language_info": {
      "name": "python"
    }
  },
  "nbformat": 4,
  "nbformat_minor": 0
}
