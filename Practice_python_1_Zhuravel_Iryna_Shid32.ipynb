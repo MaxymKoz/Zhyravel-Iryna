{
  "cells": [
    {
      "cell_type": "markdown",
      "metadata": {
        "id": "p9wwt0LZzNvn"
      },
      "source": [
        "# I. Змінні та памʼять."
      ]
    },
    {
      "cell_type": "markdown",
      "metadata": {
        "id": "HTJrrm95xSV9"
      },
      "source": [
        "1. Створити змінні, що посилаються на два цілих числа, що однакові за значенням, де значення належить проміжку від -5 до 256. Чи будуть ці змінні рівні тільки за значенням або ж ще будуть посилатися на один і той самий обʼєкт в памʼяті? Наведіть код та дайте текстову відповідь нижче."
      ]
    },
    {
      "cell_type": "code",
      "execution_count": null,
      "metadata": {
        "colab": {
          "base_uri": "https://localhost:8080/"
        },
        "id": "FHSFpb1bwTFG",
        "outputId": "079cdd7e-b52e-4ae7-d1ed-3ee5fa5c3528"
      },
      "outputs": [],
      "source": [
        "a = 25\n",
        "b = 25\n",
        "# Перевірка, чи змінні рівні за значенням\n",
        "are_equal = a == b\n",
        "# Перевірка, чи змінні посилаються на один і той самий об'єкт в пам'яті\n",
        "are_same_object = a is b\n",
        "\n",
        "print(f\"Змінні рівні за значенням: {are_equal}\")\n",
        "print(f\"Змінні посилаються на один і той самий об'єкт в пам'яті: {are_same_object}\")"
      ]
    },
    {
      "cell_type": "markdown",
      "metadata": {},
      "source": [
        "Змінні a і b ріві за значенням та посилаються на один і той самий об'єкт в пам'яті"
      ]
    },
    {
      "cell_type": "markdown",
      "metadata": {
        "id": "N-soIzlV0Awv"
      },
      "source": [
        "2. Створити змінні, що посилаються на одне і те саме булеве значення. Чи будуть ці змінні рівні тільки за значенням або ж ще будуть посилатися на один і той самий обʼєкт в памʼяті? Наведіть код та дайте текстову відповідь нижче."
      ]
    },
    {
      "cell_type": "code",
      "execution_count": null,
      "metadata": {
        "colab": {
          "base_uri": "https://localhost:8080/"
        },
        "id": "qK1-VBih0Lgz",
        "outputId": "254989d1-b772-429b-c455-5d9216adc6b7"
      },
      "outputs": [],
      "source": [
        "a = True\n",
        "b = True\n",
        "print(id(a))\n",
        "print(id(b))\n",
        "print(a is b) # Перевіряє, чи alpha і beta посилаються на один і той самий об'єкт"
      ]
    },
    {
      "cell_type": "markdown",
      "metadata": {
        "id": "nD2SJcgaya4d"
      },
      "source": [
        "Змінні a і b посилаються на один і той самий об'єкт, і a is b повертає True, що свідчить про те, що вони посилаються на один і той самий об'єкт в пам'яті."
      ]
    },
    {
      "cell_type": "markdown",
      "metadata": {
        "id": "ISORzt6M3vAt"
      },
      "source": [
        "3. За допомогою якої функції можна перевірити належність змінної до вказаного типу даних (напр. чи змінна посилається на значення булевого типу)?"
      ]
    },
    {
      "cell_type": "code",
      "execution_count": null,
      "metadata": {
        "colab": {
          "base_uri": "https://localhost:8080/"
        },
        "id": "N7HHGm4H4CW7",
        "outputId": "c183b495-422c-4941-9357-007c5ae6c6d5"
      },
      "outputs": [],
      "source": [
        "number = 12.4\n",
        "isinstance(number, float) #Якщо змінна number була б, наприклад, цілим числом, то результат був би \"False\""
      ]
    },
    {
      "cell_type": "markdown",
      "metadata": {
        "id": "tRxugKAxwYLw"
      },
      "source": [
        "# II. Цілі числа та числа з рухомою комою"
      ]
    },
    {
      "cell_type": "markdown",
      "metadata": {
        "id": "NLHkgd5Gybc8"
      },
      "source": [
        "4. Створити дві змінні, що посилаються на будь-які два цілих числа та продемонструвати такі арифметичні операції: додавання, віднімання, ділення, множення, ділення без залишку, ділення по модулю, приведення до ступеню. Всі результати операцій вивести на екран."
      ]
    },
    {
      "cell_type": "code",
      "execution_count": null,
      "metadata": {
        "colab": {
          "base_uri": "https://localhost:8080/"
        },
        "id": "Ck6JaN4Qysoc",
        "outputId": "89fba23e-3b43-4c45-f520-7534d01596ca"
      },
      "outputs": [],
      "source": [
        "x = 8\n",
        "n = 5\n",
        "\n",
        "result_addition = x + n\n",
        "print(\"Додавання:\", result_addition)\n",
        "\n",
        "result_subtraction = x - n\n",
        "print(\"Віднімання:\", result_subtraction)\n",
        "\n",
        "result_division = x / n\n",
        "print(\"Ділення:\", result_division)\n",
        "\n",
        "result_multiplication = x * n\n",
        "print(\"Множення:\", result_multiplication)\n",
        "\n",
        "result_floor_division = x // n\n",
        "print(\"Ділення без залишку:\", result_floor_division)\n",
        "\n",
        "result_modulus = x % n\n",
        "print(\"Ділення по модулю:\", result_modulus)\n",
        "\n",
        "result_exponentiation = x ** n\n",
        "print(\"Піднесення до ступеня:\", result_exponentiation)"
      ]
    },
    {
      "cell_type": "markdown",
      "metadata": {
        "id": "tOT1crlty3cE"
      },
      "source": [
        "5. Створити дві змінні, що посилаються на будь-які два числа з рухомою комою та продемонструвати такі арифметичні операції: додавання, віднімання, ділення, множення, ділення без залишку, ділення по модулю, приведення до ступеню. Всі результати операцій вивести на екран."
      ]
    },
    {
      "cell_type": "code",
      "execution_count": null,
      "metadata": {
        "colab": {
          "base_uri": "https://localhost:8080/"
        },
        "id": "m88_XOI9y-HI",
        "outputId": "d064d6fa-b36b-4ef9-87c3-6ca910fb2474"
      },
      "outputs": [],
      "source": [
        "num = 16.4\n",
        "num2 = 4.5\n",
        "\n",
        "result_addition = num + num2\n",
        "print(\"Додавання:\", result_addition)\n",
        "\n",
        "result_subtraction = num - num2\n",
        "print(\"Віднімання:\", result_subtraction)\n",
        "\n",
        "result_division = num / num2\n",
        "print(\"Ділення:\", result_division)\n",
        "\n",
        "result_multiplication = num * num2\n",
        "print(\"Множення:\", result_multiplication)\n",
        "\n",
        "result_floor_division = num // num2\n",
        "print(\"Ділення без залишку:\", result_floor_division)\n",
        "\n",
        "result_modulus = num % num2\n",
        "print(\"Ділення по модулю:\", result_modulus)\n",
        "\n",
        "result_exponentiation = num ** num2\n",
        "print(\"Піднесення до ступеня:\", result_exponentiation)"
      ]
    },
    {
      "cell_type": "markdown",
      "metadata": {
        "id": "74jIsang0Yfe"
      },
      "source": [
        "6. Спробуйте проробити всі ті самі арифметичні операції над двома змінними, що посилаються на різні булеві значення. Прокоментуйте, чому, на Вашу думку, Ви отримали саме такі результати."
      ]
    },
    {
      "cell_type": "code",
      "execution_count": null,
      "metadata": {
        "colab": {
          "base_uri": "https://localhost:8080/"
        },
        "id": "Py3JN4gU0eTq",
        "outputId": "84b28cbf-a6d3-4c77-bde3-f329a6408906"
      },
      "outputs": [],
      "source": [
        "a = True\n",
        "b = False\n",
        "\n",
        "result_addition = a + b\n",
        "print(\"Додавання:\", result_addition)\n",
        "\n",
        "result_subtraction = a - b\n",
        "print(\"Віднімання:\", result_subtraction)\n",
        "\n",
        "#result_division = a / b\n",
        "print(\"Ділення:\", result_division) # нескінченність (inf) призводить до помилки ZeroDivisionError.\n",
        "\n",
        "result_multiplication = a * b\n",
        "print(\"Множення:\", result_multiplication)\n",
        "\n",
        "#result_floor_division = a // b\n",
        "print(\"Ділення без залишку:\", result_floor_division) # Ділення на 0 також призводить до помилки ZeroDivisionError.\n",
        "\n",
        "#result_modulus = a % b\n",
        "print(\"Ділення по модулю:\", result_modulus) # Ділення на 0 також призводить до помилки ZeroDivisionError.\n",
        "\n",
        "result_exponentiation = a ** b\n",
        "print(\"Піднесення до ступеня:\", result_exponentiation)"
      ]
    },
    {
      "cell_type": "markdown",
      "metadata": {
        "id": "-pY4SCvo0wMG"
      },
      "source": [
        "*місце для текстової відповіді або коментарів*"
      ]
    },
    {
      "cell_type": "markdown",
      "metadata": {
        "id": "1kBClKgPzZnC"
      },
      "source": [
        "7. Використовуючи змінні з вправи 3, продемонструйте механізм явного перетворення типів, де числа з рухомою комою перетворюються на цілі числа."
      ]
    },
    {
      "cell_type": "code",
      "execution_count": null,
      "metadata": {
        "colab": {
          "base_uri": "https://localhost:8080/"
        },
        "id": "akcVeUWYzlpb",
        "outputId": "041a3a47-a2a8-44a0-b8ae-d304bb3d45b3"
      },
      "outputs": [],
      "source": [
        "number = 12.4\n",
        "integer_number = int(number)\n",
        "\n",
        "print(\"Початкове число (з рухомою комою):\", number)\n",
        "print(\"Число після перетворення на ціле:\", integer_number)"
      ]
    },
    {
      "cell_type": "markdown",
      "metadata": {
        "id": "GYVqN9uP1D4n"
      },
      "source": [
        "# III. Робота зі списками."
      ]
    },
    {
      "cell_type": "markdown",
      "metadata": {
        "id": "7-DeDunw2sO-"
      },
      "source": [
        "8. Створити список двома різними за синтаксисом способами. За допомогою вбудованої функції обчисліть довжину одного з них."
      ]
    },
    {
      "cell_type": "code",
      "execution_count": null,
      "metadata": {
        "colab": {
          "base_uri": "https://localhost:8080/"
        },
        "id": "jY07arjK21hH",
        "outputId": "79bb0af8-50ad-4b0f-c809-2b255e40470d"
      },
      "outputs": [],
      "source": [
        "my_list1 = [1, 2, 3, 4, 5, 6, 7]\n",
        "length1 = len(my_list1)\n",
        "print(\"Список my_list1:\", my_list1)\n",
        "print(\"Довжина списку :\", length1)"
      ]
    },
    {
      "cell_type": "code",
      "execution_count": null,
      "metadata": {
        "colab": {
          "base_uri": "https://localhost:8080/"
        },
        "id": "vI3LQTaVUlzX",
        "outputId": "d7fd4bd1-35af-4c73-c17c-bb628bf6aeb9"
      },
      "outputs": [],
      "source": [
        "my_list2 = list(range(1, 8))\n",
        "length2 = len(my_list2)\n",
        "print(\"Список my_list2:\", my_list2)\n",
        "print(\"Довжина списку:\", length2)"
      ]
    },
    {
      "cell_type": "markdown",
      "metadata": {
        "id": "8vmGUTjL22gI"
      },
      "source": [
        "9. Створіть два списка та за допомогою спеціального методу додайте другий з них в якості останнього елемента першого."
      ]
    },
    {
      "cell_type": "code",
      "execution_count": null,
      "metadata": {
        "colab": {
          "base_uri": "https://localhost:8080/"
        },
        "id": "DSP6lO_m4cdV",
        "outputId": "352e7d97-dc9a-4c00-d236-2926a8495457"
      },
      "outputs": [],
      "source": [
        "list1 = [1, 2, 3, 4, 5]\n",
        "list2 = [6, 7, 8, 9, 10]\n",
        "list1 += list2\n",
        "print(\"Список після об'єднання:\", list1)"
      ]
    },
    {
      "cell_type": "markdown",
      "metadata": {
        "id": "6ke6ng2j4dtq"
      },
      "source": [
        "10. Створіть два списка та за допомогою спеціального методу \"розширте\" перший (додайте всі елементи другого в кінець першого списку). Напишіть, чим відрізняються методи в завданні 9 та 10."
      ]
    },
    {
      "cell_type": "code",
      "execution_count": null,
      "metadata": {
        "colab": {
          "base_uri": "https://localhost:8080/"
        },
        "id": "DVJVvu494q8d",
        "outputId": "e3f98093-4540-46c5-f06e-821ab5f697d0"
      },
      "outputs": [],
      "source": [
        "list1 = list(range(1, 5))\n",
        "list2 = list(range(5, 10))\n",
        "list1.extend(list2)\n",
        "print(\"Список list1 після додавання list2:\", list1)"
      ]
    },
    {
      "cell_type": "markdown",
      "metadata": {
        "id": "LvEs8TGo6CaT"
      },
      "source": [
        "У завданні 9 був використаний оператор += для додавання всіх елементів другого списку в кінець першого списку.\n",
        "\n",
        "У завданні 10 був використаний метод .extend() для додавання всіх елементів другого списку в кінець першого списку."
      ]
    },
    {
      "cell_type": "markdown",
      "metadata": {
        "id": "iu_NyJeR4vOu"
      },
      "source": [
        "11. Створіть список та відсортуйте його так, щоб:\n",
        "а) його id залишився незмінним після сортування.\n",
        "б) результат сортування був збережений у нову змінну. Підказка: для одного пункту використовуйте вбудовану функцію стортування, а в іншому - спеціальний метод для роботи зі списками."
      ]
    },
    {
      "cell_type": "code",
      "execution_count": null,
      "metadata": {
        "colab": {
          "base_uri": "https://localhost:8080/"
        },
        "id": "LWdiIkDj5Nxo",
        "outputId": "081429e4-c9e0-479a-9962-b6d3c70777fb"
      },
      "outputs": [],
      "source": [
        "# a\n",
        "\n",
        "list_a = [1, 4, 3, 2]\n",
        "sorted_list = sorted(list_a)\n",
        "print(\"Початковий список (id):\", id(list_a))\n",
        "print(\"Відсортований список (id):\", id(sorted_list))"
      ]
    },
    {
      "cell_type": "code",
      "execution_count": null,
      "metadata": {
        "colab": {
          "base_uri": "https://localhost:8080/"
        },
        "id": "JHl9vlFa5bHt",
        "outputId": "9cad122f-43df-4b33-e18c-bdf46d9069a6"
      },
      "outputs": [],
      "source": [
        "# b\n",
        "list_b = [7, 8, 6, 5, 4]\n",
        "list_b.sort()\n",
        "print(\"Відсортований список:\", list_b)"
      ]
    },
    {
      "cell_type": "markdown",
      "metadata": {
        "id": "1l80guua5bia"
      },
      "source": [
        "12. Створіть список з елементами різного типу, де деякі значення елементів повторюються. За допомогою спеціального методу порахуйте кількість значень одного з елементів на Ваш вибір. Результат виведіть на екран."
      ]
    },
    {
      "cell_type": "code",
      "execution_count": null,
      "metadata": {
        "colab": {
          "base_uri": "https://localhost:8080/"
        },
        "id": "tWFdczmv5z5Q",
        "outputId": "36ca5df4-8360-4356-8fe0-30a9294158b8"
      },
      "outputs": [],
      "source": [
        "my_list = [1, 7, 4.8, 5, 6, 0, 5, 2]\n",
        "count_num = my_list.count(5)\n",
        "print(\"Кількість значень '5' у списку:\", count_num)"
      ]
    },
    {
      "cell_type": "markdown",
      "metadata": {
        "id": "pCjR1dJb1Qbi"
      },
      "source": [
        "# IV. Робота з кортежами."
      ]
    },
    {
      "cell_type": "markdown",
      "metadata": {
        "id": "te3MAUYq28TV"
      },
      "source": [
        "13. Створити список з один типом елементів та на основі цього списку створити кортеж."
      ]
    },
    {
      "cell_type": "code",
      "execution_count": null,
      "metadata": {
        "colab": {
          "base_uri": "https://localhost:8080/"
        },
        "id": "uq3O114R2_H1",
        "outputId": "91599adb-3150-4469-b048-e2591fee469f"
      },
      "outputs": [],
      "source": [
        "my_list = [1, 2, 3, 4, 5, 6]\n",
        "my_tuple = tuple(my_list)\n",
        "print(\"Кортеж:\", my_tuple)"
      ]
    },
    {
      "cell_type": "markdown",
      "metadata": {
        "id": "fAZCxAX06R_k"
      },
      "source": [
        "14. Створити кортеж з один елементом."
      ]
    },
    {
      "cell_type": "code",
      "execution_count": null,
      "metadata": {
        "colab": {
          "base_uri": "https://localhost:8080/"
        },
        "id": "-QWjudqk6kHd",
        "outputId": "dd6b9dc8-5480-455c-f904-6046be073735"
      },
      "outputs": [],
      "source": [
        "my_tuple = (59,)\n",
        "print(\"Кортеж з одним елементом:\", my_tuple)"
      ]
    },
    {
      "cell_type": "markdown",
      "metadata": {
        "id": "VfTSJwQF7djZ"
      },
      "source": [
        "15. Створити кортеж. Вивести на екран всі доступні його атрибути та методи."
      ]
    },
    {
      "cell_type": "code",
      "execution_count": null,
      "metadata": {
        "id": "x9elcFfr774r"
      },
      "outputs": [],
      "source": [
        "my_tuple = (1, 2, 3)\n",
        "\n",
        "print(\"Атрибути кортежу:\", dir(my_tuple))"
      ]
    },
    {
      "cell_type": "markdown",
      "metadata": {
        "id": "8LCtYcmI6w1M"
      },
      "source": [
        "16. Порівняйте список та кортеж. Назвіть схожості та відмінності, випадки використання."
      ]
    },
    {
      "cell_type": "markdown",
      "metadata": {
        "id": "t9MwoWor7UVB"
      },
      "source": [
        "Схожості між списком та кортежем - Можливість зберігання декількох значень та перебір елементів. Відмінність між кортежем та списком те що в другому можна змінювати елементи а в кортежах ні, також кортежі швидше обрабляються. Списки використовуються, якщо дані потрібно буде змінювати, а кортежі, коли є незмінна колекція елементів"
      ]
    },
    {
      "cell_type": "markdown",
      "metadata": {
        "id": "QTP622J81iHk"
      },
      "source": [
        "# V. Індексування та слайсинг."
      ]
    },
    {
      "cell_type": "markdown",
      "metadata": {
        "id": "4dmeIU-N9gHy"
      },
      "source": [
        "17. Створіть список з 6ти елементів. Отримайте третій елемент за допомогою двох різних індексів."
      ]
    },
    {
      "cell_type": "code",
      "execution_count": null,
      "metadata": {
        "id": "47LTFhfH9pRe"
      },
      "outputs": [],
      "source": [
        "my_list = [10, 20, 30, 40, 50, 60]\n",
        "\n",
        "third_element_index_2 = my_list[2]\n",
        "\n",
        "third_element_negative_index = my_list[-4]\n",
        "\n",
        "print(\"Третій елемент за допомогою індексу 2:\", third_element_index_2)\n",
        "print(\"Третій елемент за допомогою від'ємного індексу -4:\", third_element_negative_index)\n"
      ]
    },
    {
      "cell_type": "markdown",
      "metadata": {
        "id": "JC3BkD-67_--"
      },
      "source": [
        "18. Створіть список, де елементами цього списку також є списки. Отримай перший елемент з останнього рядка та виведи значення на екран."
      ]
    },
    {
      "cell_type": "code",
      "execution_count": null,
      "metadata": {
        "id": "ctR2jdq68cB0"
      },
      "outputs": [],
      "source": [
        "nested_list = [\n",
        "    [1, 2, 3],\n",
        "    [4, 5, 6],\n",
        "    [7, 8, 9]\n",
        "]\n",
        "\n",
        "last_row = nested_list[-1]\n",
        "\n",
        "# Отримання першого елемента з останнього рядка\n",
        "first_element_last_row = last_row[0]\n",
        "\n",
        "print(\"Перший елемент з останнього рядка:\", first_element_last_row)"
      ]
    },
    {
      "cell_type": "markdown",
      "metadata": {
        "id": "A-hPrvOS8cjx"
      },
      "source": [
        "19. Створіть кортеж, що містить 8  елементів цілочисленного типу. Виведіть на екран три найменших значення."
      ]
    },
    {
      "cell_type": "code",
      "execution_count": null,
      "metadata": {
        "id": "GPxJKNUm8xHU"
      },
      "outputs": [],
      "source": [
        "my_tuple = (8, 3, 5, 1, 7, 2, 4, 6)\n",
        "\n",
        "# Сортування кортежу та виведення три найменших значень\n",
        "three_smallest_values = sorted(my_tuple)[:3]\n",
        "\n",
        "# Виведення результату\n",
        "print(\"Три найменших значення:\", three_smallest_values)"
      ]
    },
    {
      "cell_type": "markdown",
      "metadata": {
        "id": "JA47PKTv8zFK"
      },
      "source": [
        "20. Створіть список з десяти елементів різного типу. Отримайте всі елементи, окрім двох перших та двох останніх та збережіть їх в новій змінній."
      ]
    },
    {
      "cell_type": "code",
      "execution_count": null,
      "metadata": {
        "id": "g-GAQS_kAlmr"
      },
      "outputs": [],
      "source": [
        "my_list = [1, 5, 3.0, 7.3, 7, 2.1, 9, 10, 9.1, 3.6]\n",
        "\n",
        "# Отримання всіх елементів, окрім двох перших та двох останніх та запис їх у іншу змінну\n",
        "new_list = my_list[2:-2]\n",
        "\n",
        "# Виведення результату\n",
        "print(\"Список з десяти елементів:\", my_list)\n",
        "print(\"Новий список без двох перших та двох останніх елементів:\", new_list)"
      ]
    },
    {
      "cell_type": "markdown",
      "metadata": {
        "id": "m0xrwFijAmDD"
      },
      "source": [
        "21. Створіть кортеж з 11ти елементів чисел з рухомою комою та отримайте кожен парний за індексом елемент в зворотньому порядку. Наприклад, маючи (1.2, 2.3, 3.3, 4.3, 5.3, 6.3, 7.3, 8.3, 9.3, 0.3), отримати (0.3, 8.3, 6.3, 4.3, 2.3). Результат збережіть в нову змінну та виведіть на екран."
      ]
    },
    {
      "cell_type": "code",
      "execution_count": null,
      "metadata": {
        "id": "BQwYLEXdBVBo"
      },
      "outputs": [],
      "source": [
        "my_tuple = (1.2, 2.3, 3.3, 4.3, 5.3, 6.3, 7.3, 8.3, 9.3, 0.3, 11.3)\n",
        "\n",
        "# Отримання парних елементів в зворотньому порядку та збереження їх у новій змінній\n",
        "result_tuple = my_tuple[::-2]\n",
        "\n",
        "# Виведення результату\n",
        "print(\"Початковий кортеж:\", my_tuple)\n",
        "print(\"Новий кортеж з парними елементами в зворотньому порядку:\", result_tuple)"
      ]
    },
    {
      "cell_type": "markdown",
      "metadata": {
        "id": "F0ArvieRBZsG"
      },
      "source": [
        "# Вітаю! Ви велика(ий) молодець, що впоралась(вся). Похваліть себе та побалуйте чимось приємним. Я Вами пишаюся."
      ]
    }
  ],
  "metadata": {
    "colab": {
      "provenance": []
    },
    "kernelspec": {
      "display_name": "Python 3",
      "name": "python3"
    },
    "language_info": {
      "name": "python",
      "version": "3.10.10"
    }
  },
  "nbformat": 4,
  "nbformat_minor": 0
}
